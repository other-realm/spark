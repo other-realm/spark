{
 "cells": [
  {
   "cell_type": "markdown",
   "id": "9e4ebe70-0943-4cc1-8ed2-3be738310f50",
   "metadata": {},
   "source": []
  },
  {
   "cell_type": "code",
   "execution_count": 7,
   "id": "64f2b4dd-4d0b-451e-9ac1-a567f583db84",
   "metadata": {},
   "outputs": [
    {
     "data": {
      "text/plain": [
       "Generator(PCG64) at 0x13760E42C00"
      ]
     },
     "execution_count": 7,
     "metadata": {},
     "output_type": "execute_result"
    },
    {
     "data": {
      "text/html": [
       "<style>.answer, div[data-mime-type=\"text/markdown\"] {\n",
       "\tfont-family: STIXMathJax_Normal, 'Times New Roman', Times, serif;\n",
       "\tfont-size: 18px;\n",
       "\tline-height: 1em;\n",
       "}\n",
       "*{\n",
       "\t/* font-family: STIXMathJax_Normal, 'Times New Roman', Times, serif; */\n",
       "\tmargin: 0;\n",
       "\tpadding: 0;\n",
       "\t/* color:black; */\n",
       "}\n",
       "\n",
       ".CodeMirror-lines,.CodeMirror {\n",
       "\tfont-family:monospace;\n",
       "}\n",
       "p{\n",
       "\tfont-family: STIXMathJax_Normal, 'Times New Roman', Times, serif;\n",
       "\tline-height: normal;\n",
       "\tcolor:black;\n",
       "}\n",
       "/* img{\n",
       "\twidth: 35%;\n",
       "} */\n",
       "h1,h2,h3,h4{\n",
       "\tfont-family: STIXMathJax_Normal, 'Times New Roman', Times, serif;\n",
       "\tline-height: normal;\n",
       "\tcolor:black;\n",
       "}</style>"
      ],
      "text/plain": [
       "<IPython.core.display.HTML object>"
      ]
     },
     "execution_count": 7,
     "metadata": {},
     "output_type": "execute_result"
    },
    {
     "data": {
      "text/plain": [
       "Generator(PCG64) at 0x13760E427A0"
      ]
     },
     "execution_count": 7,
     "metadata": {},
     "output_type": "execute_result"
    }
   ],
   "source": [
    "#%%\n",
    "%matplotlib inline\n",
    "import sys\n",
    "import warnings\n",
    "import mpmath\n",
    "from multipledispatch import dispatch\n",
    "# from latex2sympy2 import latex2sympy\n",
    "from sympy.physics.units.quantities import Quantity\n",
    "from IPython.display import Image\n",
    "from IPython.display import display\n",
    "from IPython.core.interactiveshell import InteractiveShell\n",
    "from nbconvert.preprocessors import ExecutePreprocessor\n",
    "from mpl_toolkits.mplot3d import Axes3D\n",
    "import re\n",
    "import matplotlib\n",
    "import matplotlib.pyplot as plt\n",
    "import numpy as np\n",
    "from numpy import pi\n",
    "import sympy as sy\n",
    "from sympy import ln as ln\n",
    "from sympy.parsing.latex import parse_latex\n",
    "import scipy as sc\n",
    "from scipy.integrate import odeint\n",
    "from scipy.optimize import fsolve\n",
    "from setuptools import setup, find_packages\n",
    "from IPython.core.display import HTML\n",
    "sy.init_printing(use_latex='mathjax', latex_mode='equation*')\n",
    "plt.rcParams['figure.figsize'] = [9, 9]\n",
    "InteractiveShell.ast_node_interactivity = \"all\"\n",
    "np.random.default_rng();\n",
    "np.set_printoptions(suppress=True)\n",
    "x = sy.Symbol('x')\n",
    "y = sy.Symbol('y')\n",
    "z = sy.Symbol('z')\n",
    "\n",
    "sigmaMax=sy.Symbol('sigma_max')\n",
    "yieldstrength=sy.Symbol('sigma_0')\n",
    "sigmax=sy.Symbol('sigma_x')\n",
    "sigmay=sy.Symbol('sigma_y')\n",
    "tauxy=sy.Symbol('tau_xy')\n",
    "epsilonx=sy.Symbol('epsilon_x')\n",
    "epsilony=sy.Symbol('epsilon_y')\n",
    "epsilonz=sy.Symbol('epsilon_z')\n",
    "epsilon45=sy.Symbol('epsilon_45')\n",
    "honeyD=sy.Symbol('rho^*')\n",
    "solidD=sy.Symbol('rho_s')\n",
    "transverse_strain=sy.Symbol(\"epsilon_trans\")\n",
    "_strain=sy.Symbol(\"epsilon_trans\")\n",
    "strainFail=sy.Symbol('epsilon_f')\n",
    "S=sy.Symbol('S')\n",
    "c=sy.Symbol('c')\n",
    "p=sy.Symbol('p')\n",
    "gammaxy=sy.Symbol('gamma_xy')\n",
    "def css_styling():\n",
    "    styles = \"<style>\"+ open(\"styles/custom.css\", \"r\").read()+\"</style>\"\n",
    "    return HTML(styles)\n",
    "css_styling()\n",
    "alpha=sy.Symbol('alpha')#Α α            \n",
    "bet=sy.Symbol('beta')#Β β\n",
    "gama=sy.Symbol('gamma')#Γ γ\n",
    "delta=sy.Symbol('delta')#Δ δ\n",
    "epsilon=strain=sy.Symbol('epsilon')#Ε ε\n",
    "zeta=sy.Symbol('zeta')#Ζ ζ\n",
    "eta=sy.Symbol('eta')#Η η\n",
    "theta = sy.Symbol('theta')#Θ θ\n",
    "iota=sy.Symbol('iota')#Ι ι\n",
    "kappa=sy.Symbol('kappa')#Κ κ\n",
    "labda=sy.Symbol('lambda')#Λ λ\n",
    "mu=sy.Symbol('mu')#Μ μ\n",
    "nu=sy.Symbol('nu')#Ν ν\n",
    "xi=sy.Symbol('xi')#Ξ ξ\n",
    "omicron=sy.Symbol('omicron')#Ο ο\n",
    "pii=sy.Symbol('pi')#Π π\n",
    "rho=sy.Symbol('rho')#Ρ ρ\n",
    "sigma=stress=sy.Symbol('sigma')#σ\n",
    "tau=sy.Symbol('tau')#Τ τ\n",
    "upsilon=sy.Symbol('epsilon')#Υ υ\n",
    "phi = sy.Symbol('phi')#Φ φ\n",
    "chi=sy.Symbol('chi')#Χ χ\n",
    "psi=sy.Symbol('psi')#Ψ ψ\n",
    "omega=sy.Symbol('omega')#Ω ω\n",
    "f, g = sy.symbols('f g', cls=sy.Function)\n",
    "from re import T\n",
    "import matplotlib\n",
    "import matplotlib.pyplot as plt\n",
    "from IPython.display import Image\n",
    "from IPython.display import display\n",
    "from IPython.core.interactiveshell import InteractiveShell\n",
    "from nbconvert.preprocessors import ExecutePreprocessor\n",
    "from IPython.core.display import HTML\n",
    "import numpy as np\n",
    "from typing import Union\n",
    "plt.rcParams['figure.figsize'] = [9, 9]\n",
    "InteractiveShell.ast_node_interactivity = \"all\"\n",
    "np.random.default_rng()\n",
    "np.set_printoptions(suppress=True)"
   ]
  },
  {
   "cell_type": "markdown",
   "id": "fbb037fc",
   "metadata": {},
   "source": [
    "&nbsp;  \n",
    "<div style=\"text-align: center;font-size:2em\">Double click on text to edit it</div>  \n",
    "\n",
    "<!--\n",
    "This is a comment  (Standerd HTML comment)\n",
    "-->\n",
    "# This is a h1 header\n",
    "## This is a h2 header\n",
    "### This is a h3 header\n",
    "\n",
    "<br>\n",
    "Example LaTeX short formate in Jupyter Notebook ↓ \n",
    "$$((500meters^3*(weight\\ of\\ one\\ meter\\ of\\ water)^3*(height\\ of\\ tide))/(time\\ from\\ low\\ tide\\ to\\ high))*number\\ of\\ tides=$$"
   ]
  },
  {
   "cell_type": "code",
   "execution_count": null,
   "id": "b652107f-0a06-47f5-a32e-c3546ff8c385",
   "metadata": {},
   "outputs": [],
   "source": []
  }
 ],
 "metadata": {
  "kernelspec": {
   "display_name": "Python 3 (ipykernel)",
   "language": "python",
   "name": "python3"
  },
  "language_info": {
   "codemirror_mode": {
    "name": "ipython",
    "version": 3
   },
   "file_extension": ".py",
   "mimetype": "text/x-python",
   "name": "python",
   "nbconvert_exporter": "python",
   "pygments_lexer": "ipython3",
   "version": "3.11.4"
  }
 },
 "nbformat": 4,
 "nbformat_minor": 5
}
